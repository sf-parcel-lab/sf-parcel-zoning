{
 "cells": [
  {
   "cell_type": "code",
   "execution_count": 1,
   "id": "2703dfa5",
   "metadata": {},
   "outputs": [
    {
     "name": "stderr",
     "output_type": "stream",
     "text": [
      "/Users/Salim/Library/Python/3.9/lib/python/site-packages/scipy/__init__.py:155: UserWarning: A NumPy version >=1.18.5 and <1.26.0 is required for this version of SciPy (detected version 1.26.4\n",
      "  warnings.warn(f\"A NumPy version >={np_minversion} and <{np_maxversion}\"\n"
     ]
    }
   ],
   "source": [
    "import os\n",
    "import math\n",
    "import requests\n",
    "import pandas as pd\n",
    "import geopandas as gpd\n",
    "from arcgis import GIS"
   ]
  },
  {
   "cell_type": "code",
   "execution_count": 2,
   "id": "13896bfe",
   "metadata": {},
   "outputs": [],
   "source": [
    "def pull_geotable_agol(base_url, client, reproject_to_analysis_crs=True):\n",
    "    \"\"\"Given the url of an ArcGIS Feature Service layer, pulls the full dataset from ArcGIS Online and return a geopandas GeoDataFrame.\n",
    "\n",
    "    This function can be used to to pull small to large datasets from ArcGIS Online. In most cases there is a maximum query limit\n",
    "    set for ArcGIS Feature Service layers which range between 1000 records and 2000 records. This function helps bypass this limit\n",
    "    by first querying for the full list of object ids, then 'chunking' that list into chunks less than the maximum query limit.\n",
    "\n",
    "    base_url should be the url of the arcgis feature service layer. For example, the feature service url will look like this:\n",
    "    https://services3.arcgis.com/i2dkYWmb4wHvYPda/arcgis/rest/services/DRAFT_TOC_Transit_Stations_Existing_June_2023_/FeatureServer\n",
    "\n",
    "    Feature services can contain multiple layers. To specify a specific layer, append the layer number to the url. For example, the feature\n",
    "    service layer url will look like this: https://services3.arcgis.com/i2dkYWmb4wHvYPda/arcgis/rest/services/DRAFT_TOC_Transit_Stations_Existing_June_2023_/FeatureServer/0\n",
    "\n",
    "    For more information on feature service layers, see the ArcGIS REST API documentation:\n",
    "    https://developers.arcgis.com/rest/services-reference/enterprise/layer-feature-service-.htm\n",
    "\n",
    "    Author: Joshua Croff\n",
    "\n",
    "    Args:\n",
    "        base_url: arcgis REST Service url\n",
    "        client: arcgis client object\n",
    "        reproject_to_analysis_crs: boolean, if True, will reproject to analysis crs EPSG:26910. Set to true by default. If false, will return data in EPSG:4326.\n",
    "\n",
    "    Returns:\n",
    "       geopandas GeoDataFrame: A GeoDataFrame object is a pandas.DataFrame that has a column with geometry.\n",
    "    \"\"\"\n",
    "\n",
    "    # get token from client\n",
    "    token = client._con.token\n",
    "\n",
    "    # get feature ids from arcgis api\n",
    "    id_query = f\"query?outFields=*&where=1%3D1&f=json&returnIdsOnly=true&token={token}\"\n",
    "    id_url = os.path.join(base_url, id_query)\n",
    "    id_response = requests.get(id_url)\n",
    "    id_json = id_response.json()\n",
    "\n",
    "    # create list of object ids & chunk to 1000 with is the arcgis api maximum record limit\n",
    "    id_list = id_json[\"objectIds\"]\n",
    "    list_len = len(id_list)\n",
    "    out_list_len = 225\n",
    "    chunks = math.ceil(list_len / out_list_len)\n",
    "    print(f\"Breaking feature service layer IDs into {chunks} chunks\")\n",
    "\n",
    "    id_chunk_list = [id_list[i : i + out_list_len] for i in range(0, len(id_list), out_list_len)]\n",
    "\n",
    "    # loop over list of lists and pull data\n",
    "    # bad_urls = [] # uncomment to track and debug bad urls\n",
    "    results = []\n",
    "    for list_item in id_chunk_list:\n",
    "        obj_str = \",\".join(str(x) for x in list_item)\n",
    "        query = f\"query?outFields=*&where=&objectIds={obj_str}&f=geojson&token={token}\"\n",
    "        url = os.path.join(base_url, query)\n",
    "        response = requests.get(url)\n",
    "        response.raise_for_status()\n",
    "        json = response.json()\n",
    "        results += json[\"features\"]\n",
    "    # return [results, bad_urls] # uncomment to track and debug bad urls\n",
    "\n",
    "    gdf = gpd.GeoDataFrame.from_features(results).set_crs(\"EPSG:4326\")\n",
    "\n",
    "    if reproject_to_analysis_crs:\n",
    "        gdf = gdf.to_crs(\"EPSG:26910\")\n",
    "\n",
    "    return gdf"
   ]
  },
  {
   "cell_type": "code",
   "execution_count": 4,
   "id": "8ceec500",
   "metadata": {},
   "outputs": [],
   "source": [
    "gis = GIS(username=\"sdamerdji\", password='WJYBm_WeFW6wUPr')"
   ]
  },
  {
   "cell_type": "code",
   "execution_count": 9,
   "id": "058a45ab",
   "metadata": {},
   "outputs": [],
   "source": [
    "base_url = \"https://services.arcgis.com/Zs2aNLFN00jrS4gG/ArcGIS/rest/services/April_2025_Rezoning/FeatureServer/93\""
   ]
  },
  {
   "cell_type": "code",
   "execution_count": 10,
   "id": "82610b75",
   "metadata": {},
   "outputs": [
    {
     "name": "stdout",
     "output_type": "stream",
     "text": [
      "Breaking feature service layer IDs into 406 chunks\n"
     ]
    }
   ],
   "source": [
    "rezone_sites = pull_geotable_agol(base_url=base_url, client=gis, reproject_to_analysis_crs=False)"
   ]
  },
  {
   "cell_type": "code",
   "execution_count": 16,
   "id": "1a27e0cf",
   "metadata": {},
   "outputs": [],
   "source": [
    "rezone_sites.to_file(\"data/rezone_sites_4_2025.geojson\", driver=\"GeoJSON\")"
   ]
  }
 ],
 "metadata": {
  "kernelspec": {
   "display_name": "Python 3 (ipykernel)",
   "language": "python",
   "name": "python3"
  },
  "language_info": {
   "codemirror_mode": {
    "name": "ipython",
    "version": 3
   },
   "file_extension": ".py",
   "mimetype": "text/x-python",
   "name": "python",
   "nbconvert_exporter": "python",
   "pygments_lexer": "ipython3",
   "version": "3.9.6"
  }
 },
 "nbformat": 4,
 "nbformat_minor": 5
}
